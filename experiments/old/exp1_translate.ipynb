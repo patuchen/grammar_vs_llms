{
 "cells": [
  {
   "cell_type": "code",
   "execution_count": 69,
   "id": "49e30246-1721-4940-86ba-b9a36b06db62",
   "metadata": {},
   "outputs": [],
   "source": [
    "import openai\n",
    "import os\n",
    "import json\n",
    "\n",
    "model=\"gpt-4o-mini\"\n",
    "openai.api_key = \"sk-proj-2vPdQ1i59qOzikwXBQQAT3BlbkFJJtTiypSB67sWYpXQwmD6\"\n",
    "\n",
    "client = openai.OpenAI(api_key=\"sk-proj-2vPdQ1i59qOzikwXBQQAT3BlbkFJJtTiypSB67sWYpXQwmD6\")"
   ]
  },
  {
   "cell_type": "code",
   "execution_count": 70,
   "id": "a5725946",
   "metadata": {},
   "outputs": [],
   "source": [
    "data_folder = \"mt-metrics-eval-v2/wmt23/sources/\"\n",
    "out_folder = \"new_translations/wmt23/system-outputs\"\n",
    "ref_suffix = \".refA.txt\"\n",
    "ref_folder = \"mt-metrics-eval-v2/wmt23/references/\"\n",
    "mapping = {\n",
    "    \"cs\": \"Czech\",\n",
    "    \"uk\": \"Ukrainian\",\n",
    "    \"de\": \"German\",\n",
    "    \"en\": \"English\",\n",
    "    \"he\": \"Hebrew\",\n",
    "    \"ru\": \"Russian\",\n",
    "    \"zh\": \"Chinese\",\n",
    "}\n",
    "\n",
    "# mt.json\n",
    "# prompts_simulated.json\n",
    "with open('mt_base.json', 'r') as file:\n",
    "    prompts = json.load(file)"
   ]
  },
  {
   "cell_type": "code",
   "execution_count": 71,
   "id": "64ce1d5c",
   "metadata": {},
   "outputs": [],
   "source": [
    "languages = [\"de-en\", \"cs-uk\", \"en-zh\"] #\"de-en\"\n",
    "sample = 500"
   ]
  },
  {
   "cell_type": "code",
   "execution_count": 72,
   "id": "e9acc6ce",
   "metadata": {},
   "outputs": [],
   "source": [
    "def load_sample(path, sample):\n",
    "    loaded = []\n",
    "    with open(path, 'r') as f:\n",
    "        i = 0\n",
    "        for line in f:\n",
    "            if i >= sample:\n",
    "                #i += 1\n",
    "                #continue\n",
    "                break\n",
    "            loaded.append(line.strip())\n",
    "            i += 1\n",
    "    return loaded"
   ]
  },
  {
   "cell_type": "code",
   "execution_count": 75,
   "id": "c1430e30",
   "metadata": {},
   "outputs": [],
   "source": [
    "import random\n",
    "import re\n",
    "\n",
    "def make_typos(sentence, prob_threshold=0.1, seed=42):\n",
    "    new_sentence = \"\"\n",
    "    i = 0\n",
    "    random.seed(seed)\n",
    "    while i < len(sentence):\n",
    "        # Do not replace anything in placeholders - there is still the source sentence placeholder\n",
    "        if sentence[i] == '[':\n",
    "            close_i = sentence.find(']', i)\n",
    "            new_sentence += sentence[i:close_i+1]\n",
    "            i = close_i + 1\n",
    "            continue\n",
    "        # With a random probability of prob_threshold, introduce a typo\n",
    "        if random.Random().random() < prob_threshold:\n",
    "            # Only swap if not approaching the end of the sentence and if the characters are not special\n",
    "            if i+1 < len(sentence) and not re.match(r'\\W', sentence[i]) and not re.match(r'\\W', sentence[i+1]):\n",
    "                new_sentence += sentence[i+1] + sentence[i] #Swap two consecutive letters\n",
    "                i += 2\n",
    "                continue\n",
    "            # Not used ATM, only swapping. Or omit the current letter (i.e don't copy it to the new string)\n",
    "        else:\n",
    "            new_sentence += sentence[i]\n",
    "        i += 1\n",
    "    return new_sentence"
   ]
  },
  {
   "cell_type": "code",
   "execution_count": null,
   "id": "3f6e115d",
   "metadata": {},
   "outputs": [],
   "source": [
    "import pandas as pd\n",
    "for lp in languages:\n",
    "    # load testset\n",
    "    testset = load_sample(f'{data_folder}/{lp}.txt', sample)\n",
    "    references = load_sample(f'{ref_folder}{lp}{ref_suffix}', sample)\n",
    "    \n",
    "    for prompt in prompts:\n",
    "        for i in range(0, 110, 10):\n",
    "            translations = []\n",
    "            source_language = lp.split(\"-\")[0]\n",
    "            target_language = lp.split(\"-\")[1]\n",
    "            # Try the rest of the prompt variants\n",
    "            #if \"01-src\" not in prompt['id']:\n",
    "            #    continue\n",
    "            template = prompt['prompt'].replace(\"[target language]\", mapping[target_language]).replace(\"[source language]\", mapping[source_language])\n",
    "            experiment_name = f\"{sample}_v2_\" + prompt['id'] + f\"_{i}\"\n",
    "\n",
    "\n",
    "\n",
    "            for item in testset:\n",
    "                noised_template = make_typos(template, i/float(100), item)\n",
    "                messages = [\n",
    "                {\"role\": \"system\", \"content\": \"You are a helpful machine translation assistant.\"},\n",
    "                {\"role\": \"user\", \"content\": noised_template.replace('[source sentence]', item)}\n",
    "        ]\n",
    "\n",
    "                response = client.chat.completions.create(model=model, messages=messages)\n",
    "                translation = response.choices[0].message.content\n",
    "                translations.append(translation.replace('\\n', ' ').replace('\\t', ' '))\n",
    "\n",
    "            # create folder translations/wmt23/system-outputs\n",
    "            if not os.path.exists(f'new_translations/wmt23/system-outputs/{lp}'):\n",
    "                os.makedirs(f'new_translations/wmt23/system-outputs/{lp}')\n",
    "            dict = {'source': testset, 'translation': translations, 'reference': references}\n",
    "            df = pd.DataFrame(dict)\n",
    "            with open(f'new_translations/wmt23/system-outputs/{lp}/{experiment_name}.csv', 'w') as f:\n",
    "                df.to_csv(f)\n"
   ]
  },
  {
   "cell_type": "code",
   "execution_count": null,
   "id": "b05f2e4d-705c-459b-b226-d5eddcc2ab13",
   "metadata": {},
   "outputs": [],
   "source": []
  }
 ],
 "metadata": {
  "kernelspec": {
   "display_name": "Python 3 (ipykernel)",
   "language": "python",
   "name": "python3"
  },
  "language_info": {
   "codemirror_mode": {
    "name": "ipython",
    "version": 3
   },
   "file_extension": ".py",
   "mimetype": "text/x-python",
   "name": "python",
   "nbconvert_exporter": "python",
   "pygments_lexer": "ipython3",
   "version": "3.10.12"
  }
 },
 "nbformat": 4,
 "nbformat_minor": 5
}
